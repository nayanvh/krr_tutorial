{
 "cells": [
  {
   "cell_type": "markdown",
   "metadata": {},
   "source": [
    "# HOMO energy prediction with kernel ridge regression\n",
    "\n",
    "\n",
    "The original of this notebook tutorial lives at https://github.com/astuke/krr_tutorial/blob/master/krr_homo.ipynb .  I forked it here and have also did some of the exercises at the bottom.\n",
    "  \n",
    "  \n",
    "\n",
    "\n",
    "In this notebook we will machine-learn the relationship between molecules (represented by the Coulomb matrix CM) and their HOMO energy using kernel regression (KRR).\n",
    "\n",
    "KRR is a machine learning method that performs regression (fitting). This tutorial shows step by step how to load the data, visualize them, select the hyperparameters, train the model and validate it. We use the QM7 dataset of 7k small organic molecules. The HOMO energies of all molecules were pre-computed with first principles quantum mechanical methods (DFT) to obtain the target data that our model can be trained on. Detailed descriptions and results for a similar dataset (QM9) can be found in Stuke, Annika, et al. \"Chemical diversity in molecular orbital energy predictions with kernel ridge regression.\" The Journal of chemical physics 150.20 (2019): 204121.\n",
    "\n",
    "## Setup"
   ]
  },
  {
   "cell_type": "code",
   "execution_count": 2,
   "metadata": {},
   "outputs": [],
   "source": [
    "# initial imports\n",
    "\n",
    "import numpy as np\n",
    "import math, random\n",
    "import matplotlib.pyplot as plt\n",
    "import pandas as pd\n",
    "import json\n",
    "import seaborn as sns\n",
    "from scipy.sparse import load_npz\n",
    "from matplotlib.colors import LinearSegmentedColormap\n",
    "from sklearn.model_selection import GridSearchCV\n",
    "from sklearn.kernel_ridge import KernelRidge\n",
    "from sklearn.metrics import r2_score"
   ]
  },
  {
   "cell_type": "markdown",
   "metadata": {},
   "source": [
    "## Load and visualize data \n",
    "\n",
    "At first, we load the data. The input data x is an array that contains all 7k molecules of the QM7 dataset, represented by their Coulomb matrices. The output data y is a list that contains the corresponding (pre-computed) HOMO energies."
   ]
  },
  {
   "cell_type": "code",
   "execution_count": 3,
   "metadata": {},
   "outputs": [
    {
     "name": "stdout",
     "output_type": "stream",
     "text": [
      "Number of molecules: 133814\n"
     ]
    }
   ],
   "source": [
    "x = load_npz(\"./data/qm7/cm.npz\").toarray()\n",
    "y = np.genfromtxt(\"./data/qm7/HOMO.txt\")\n",
    "\n",
    "print(\"Number of molecules:\", len(y))"
   ]
  },
  {
   "cell_type": "markdown",
   "metadata": {},
   "source": [
    "Print the Coulomb matrix of a random molecule in the dataset."
   ]
  },
  {
   "cell_type": "code",
   "execution_count": 4,
   "metadata": {},
   "outputs": [
    {
     "name": "stdout",
     "output_type": "stream",
     "text": [
      "[36.858 23.479 14.179 15.799 10.604 10.902 13.355 13.889 11.798  5.466\n",
      "  5.463  5.469  2.778  1.717  2.174  1.528  1.717  2.151  1.818  1.464\n",
      "  0.     0.     0.     0.     0.     0.     0.     0.     0.    23.479\n",
      " 36.858 23.593 19.447 12.612 11.854 17.266 23.366 13.904  2.733  2.762\n",
      "  2.741  5.444  2.757  2.745  1.788  2.804  2.069  2.117  1.7    0.\n",
      "  0.     0.     0.     0.     0.     0.     0.     0.    14.179 23.593\n",
      " 36.858 33.235 14.844 13.574 15.583 14.685  9.325  2.094  2.187  1.717\n",
      "  2.82   5.439  5.468  1.62   2.216  1.427  1.415  1.298  0.     0.\n",
      "  0.     0.     0.     0.     0.     0.     0.    15.799 19.447 33.235\n",
      " 73.517 35.05  28.594 23.992 16.597 11.261  2.848  2.391  1.969  2.364\n",
      "  3.846  3.952  2.489  2.395  1.813  1.621  1.643  0.     0.     0.\n",
      "  0.     0.     0.     0.     0.     0.    10.604 12.612 14.844 35.05\n",
      " 36.858 39.464 30.613 14.116  9.665  2.052  1.484  1.42   1.548  2.096\n",
      "  1.834  3.001  1.94   1.566  1.299  1.466  0.     0.     0.     0.\n",
      "  0.     0.     0.     0.     0.    10.902 11.854 13.574 28.594 39.464\n",
      " 73.517 24.553 13.127 10.302  2.149  1.598  1.536  1.573  2.04   1.879\n",
      "  3.277  1.919  1.723  1.418  1.645  0.     0.     0.     0.     0.\n",
      "  0.     0.     0.     0.    13.355 17.266 15.583 23.992 30.613 24.553\n",
      " 53.359 28.689 17.146  2.432  1.727  1.897  2.088  2.324  1.882  6.907\n",
      "  3.325  2.576  2.056  2.569  0.     0.     0.     0.     0.     0.\n",
      "  0.     0.     0.    13.889 23.366 14.685 16.597 14.116 13.127 28.689\n",
      " 36.858 23.589  2.106  1.701  2.057  2.8    2.231  1.745  2.797  5.419\n",
      "  2.748  2.766  2.763  0.     0.     0.     0.     0.     0.     0.\n",
      "  0.     0.    11.798 13.904  9.325 11.261  9.665 10.302 17.146 23.589\n",
      " 36.858  1.823  1.464  2.133  2.056  1.44   1.267  2.3    2.805  5.467\n",
      "  5.463  5.458  0.     0.     0.     0.     0.     0.     0.     0.\n",
      "  0.     5.466  2.733  2.094  2.848  2.052  2.149  2.432  2.106  1.823\n",
      "  0.5    0.565  0.563  0.324  0.257  0.316  0.283  0.258  0.357  0.261\n",
      "  0.238  0.     0.     0.     0.     0.     0.     0.     0.     0.\n",
      "  5.463  2.762  2.187  2.391  1.484  1.598  1.727  1.701  1.464  0.565\n",
      "  0.5    0.565  0.396  0.268  0.399  0.204  0.233  0.259  0.237  0.194\n",
      "  0.     0.     0.     0.     0.     0.     0.     0.     0.     5.469\n",
      "  2.741  1.717  1.969  1.42   1.536  1.897  2.057  2.133  0.563  0.565\n",
      "  0.5    0.403  0.231  0.267  0.232  0.262  0.418  0.353  0.257  0.\n",
      "  0.     0.     0.     0.     0.     0.     0.     0.     2.778  5.444\n",
      "  2.82   2.364  1.548  1.573  2.088  2.8    2.056  0.324  0.396  0.403\n",
      "  0.5    0.412  0.396  0.237  0.429  0.294  0.365  0.259  0.     0.\n",
      "  0.     0.     0.     0.     0.     0.     0.     1.717  2.757  5.439\n",
      "  3.846  2.096  2.04   2.324  2.231  1.44   0.257  0.268  0.231  0.412\n",
      "  0.5    0.561  0.253  0.404  0.211  0.224  0.21   0.     0.     0.\n",
      "  0.     0.     0.     0.     0.     0.     2.174  2.745  5.468  3.952\n",
      "  1.834  1.879  1.882  1.745  1.267  0.316  0.399  0.267  0.396  0.561\n",
      "  0.5    0.212  0.269  0.201  0.2    0.179  0.     0.     0.     0.\n",
      "  0.     0.     0.     0.     0.     1.528  1.788  1.62   2.489  3.001\n",
      "  3.277  6.907  2.797  2.3    0.283  0.204  0.232  0.237  0.253  0.212\n",
      "  0.5    0.375  0.358  0.272  0.4    0.     0.     0.     0.     0.\n",
      "  0.     0.     0.     0.     1.717  2.804  2.216  2.395  1.94   1.919\n",
      "  3.325  5.419  2.805  0.258  0.233  0.262  0.429  0.404  0.269  0.375\n",
      "  0.5    0.326  0.402  0.407  0.     0.     0.     0.     0.     0.\n",
      "  0.     0.     0.     2.151  2.069  1.427  1.813  1.566  1.723  2.576\n",
      "  2.748  5.467  0.357  0.259  0.418  0.294  0.211  0.201  0.358  0.326\n",
      "  0.5    0.561  0.563  0.     0.     0.     0.     0.     0.     0.\n",
      "  0.     0.     1.818  2.117  1.415  1.621  1.299  1.418  2.056  2.766\n",
      "  5.463  0.261  0.237  0.353  0.365  0.224  0.2    0.272  0.402  0.561\n",
      "  0.5    0.564  0.     0.     0.     0.     0.     0.     0.     0.\n",
      "  0.     1.464  1.7    1.298  1.643  1.466  1.645  2.569  2.763  5.458\n",
      "  0.238  0.194  0.257  0.259  0.21   0.179  0.4    0.407  0.563  0.564\n",
      "  0.5    0.     0.     0.     0.     0.     0.     0.     0.     0.\n",
      "  0.     0.     0.     0.     0.     0.     0.     0.     0.     0.\n",
      "  0.     0.     0.     0.     0.     0.     0.     0.     0.     0.\n",
      "  0.     0.     0.     0.     0.     0.     0.     0.     0.     0.\n",
      "  0.     0.     0.     0.     0.     0.     0.     0.     0.     0.\n",
      "  0.     0.     0.     0.     0.     0.     0.     0.     0.     0.\n",
      "  0.     0.     0.     0.     0.     0.     0.     0.     0.     0.\n",
      "  0.     0.     0.     0.     0.     0.     0.     0.     0.     0.\n",
      "  0.     0.     0.     0.     0.     0.     0.     0.     0.     0.\n",
      "  0.     0.     0.     0.     0.     0.     0.     0.     0.     0.\n",
      "  0.     0.     0.     0.     0.     0.     0.     0.     0.     0.\n",
      "  0.     0.     0.     0.     0.     0.     0.     0.     0.     0.\n",
      "  0.     0.     0.     0.     0.     0.     0.     0.     0.     0.\n",
      "  0.     0.     0.     0.     0.     0.     0.     0.     0.     0.\n",
      "  0.     0.     0.     0.     0.     0.     0.     0.     0.     0.\n",
      "  0.     0.     0.     0.     0.     0.     0.     0.     0.     0.\n",
      "  0.     0.     0.     0.     0.     0.     0.     0.     0.     0.\n",
      "  0.     0.     0.     0.     0.     0.     0.     0.     0.     0.\n",
      "  0.     0.     0.     0.     0.     0.     0.     0.     0.     0.\n",
      "  0.     0.     0.     0.     0.     0.     0.     0.     0.     0.\n",
      "  0.     0.     0.     0.     0.     0.     0.     0.     0.     0.\n",
      "  0.     0.     0.     0.     0.     0.     0.     0.     0.     0.\n",
      "  0.     0.     0.     0.     0.     0.     0.     0.     0.     0.\n",
      "  0.     0.     0.     0.     0.     0.     0.     0.     0.     0.\n",
      "  0.     0.     0.     0.     0.     0.     0.     0.     0.     0.\n",
      "  0.     0.     0.     0.     0.     0.     0.     0.     0.     0.\n",
      "  0.     0.     0.     0.     0.     0.     0.     0.     0.     0.\n",
      "  0.   ]\n"
     ]
    }
   ],
   "source": [
    "rand_mol = random.randint(0, len(y))\n",
    "\n",
    "print(x[rand_mol])"
   ]
  },
  {
   "cell_type": "markdown",
   "metadata": {},
   "source": [
    "Visualize the Coulomb matrix of the random molecule."
   ]
  },
  {
   "cell_type": "code",
   "execution_count": 5,
   "metadata": {},
   "outputs": [
    {
     "data": {
      "text/plain": [
       "<Figure size 432x288 with 0 Axes>"
      ]
     },
     "metadata": {},
     "output_type": "display_data"
    },
    {
     "data": {
      "image/png": "[encoded data removed]",
      "text/plain": [
       "<Figure size 432x432 with 2 Axes>"
      ]
     },
     "metadata": {
      "needs_background": "light"
     },
     "output_type": "display_data"
    }
   ],
   "source": [
    "shape = (29, 29)\n",
    "mat = x[rand_mol].reshape(shape)\n",
    "\n",
    "plt.figure()\n",
    "plt.figure(figsize = (6,6))\n",
    "plt.imshow(mat, origin=\"upper\", cmap='rainbow', vmin=-15, vmax=90, interpolation='nearest')\n",
    "plt.colorbar(fraction=0.046, pad=0.04).ax.tick_params(labelsize=20)\n",
    "plt.axis('off')\n",
    "plt.show()"
   ]
  },
  {
   "cell_type": "markdown",
   "metadata": {},
   "source": [
    "Visualize the target data by plotting the distribution of HOMO energies in the dataset."
   ]
  },
  {
   "cell_type": "code",
   "execution_count": 6,
   "metadata": {},
   "outputs": [
    {
     "data": {
      "image/png": "[encoded data removed]",
      "text/plain": [
       "<Figure size 432x288 with 1 Axes>"
      ]
     },
     "metadata": {
      "needs_background": "light"
     },
     "output_type": "display_data"
    },
    {
     "name": "stdout",
     "output_type": "stream",
     "text": [
      "Mean value of HOMO energies in QM9 dataset: -5.77 eV\n"
     ]
    }
   ],
   "source": [
    "plt.hist(y, bins=20, density=False, facecolor='blue')\n",
    "plt.xlabel(\"Energy [eV]\")\n",
    "plt.ylabel(\"Number of molecules\")\n",
    "plt.title(\"Distribution of HOMO energies\")\n",
    "plt.show()\n",
    "\n",
    "## mean value of distribution\n",
    "print(\"Mean value of HOMO energies in QM9 dataset: %0.2f eV\" %np.mean(y))"
   ]
  },
  {
   "cell_type": "markdown",
   "metadata": {},
   "source": [
    "Before dividing the dataset into training and test set, we shuffle the data. Data are often stored in a certain order, and simply taking the first part for training and the second for testing would not result in a well trained model, since the training set would not represent the test data well (and vice versa)."
   ]
  },
  {
   "cell_type": "code",
   "execution_count": 5,
   "metadata": {},
   "outputs": [],
   "source": [
    "## shuffle the data\n",
    "\n",
    "c = list(zip(x, y))\n",
    "random.shuffle(c)\n",
    "\n",
    "x, y = zip(*c)\n",
    "\n",
    "x = np.array(x)\n",
    "y = np.array(y)"
   ]
  },
  {
   "cell_type": "markdown",
   "metadata": {},
   "source": [
    "Now, we divide the data into training and test set."
   ]
  },
  {
   "cell_type": "code",
   "execution_count": 8,
   "metadata": {},
   "outputs": [],
   "source": [
    "# decide how many samples to take from the database for training and testing\n",
    "n_train = 1000\n",
    "n_test = 1000\n",
    "\n",
    "# split data in training and test\n",
    "# take first n_train molecules for training\n",
    "x_train  = x[0:n_train] \n",
    "y_train = y[0:n_train]\n",
    "\n",
    "# take the next n_test data for testing\n",
    "x_test = x[n_train:n_train + n_test]\n",
    "y_test = y[n_train:n_train + n_test]"
   ]
  },
  {
   "cell_type": "markdown",
   "metadata": {},
   "source": [
    "Check that the training data resemble the test data well by plotting the distribution of HOMO energies for both sets. The distributions should be centered around the same mean value and have the same shape."
   ]
  },
  {
   "cell_type": "code",
   "execution_count": 9,
   "metadata": {},
   "outputs": [
    {
     "data": {
      "image/png": "[encoded data removed]",
      "text/plain": [
       "<Figure size 432x288 with 1 Axes>"
      ]
     },
     "metadata": {
      "needs_background": "light"
     },
     "output_type": "display_data"
    },
    {
     "name": "stdout",
     "output_type": "stream",
     "text": [
      "Mean value of HOMO energies in training set: -5.75 eV\n",
      "Mean value of HOMO energies in test set: -5.79 eV\n"
     ]
    }
   ],
   "source": [
    "plt.hist(y_test, bins=20, density=False, alpha=0.5, facecolor='red', label='test set')\n",
    "plt.hist(y_train, bins=20, density=False, alpha=0.5, facecolor='gray', label='training set')\n",
    "plt.xlabel(\"Energy [eV]\")\n",
    "plt.ylabel(\"Number of molecules\")\n",
    "plt.legend()\n",
    "plt.show()\n",
    "\n",
    "## mean value of distributions\n",
    "print(\"Mean value of HOMO energies in training set: %0.2f eV\" %np.mean(y_train))\n",
    "print(\"Mean value of HOMO energies in test set: %0.2f eV\" %np.mean(y_test))"
   ]
  },
  {
   "cell_type": "markdown",
   "metadata": {},
   "source": [
    "## Training\n",
    "\n",
    "In the training phase we use a kernel function to measure the distance between all pairs of molecules (represented by their Coulomb matrices) in the training set. We here employ one of two kernels, the Gaussian kernel or the Laplacian kernel. The Gaussian kernel is given by\n",
    "\n",
    "\\begin{equation}\n",
    "k_{Gaussian}(\\boldsymbol{x},\\boldsymbol{x}')=e^{-\\frac{||{\\boldsymbol{x}-\\boldsymbol{x}'}||_2^2}{2\\gamma^2}},\n",
    "\\end{equation}\n",
    "\n",
    "which employs the Euclidean distance as similarity measure. The parameter $\\gamma$ is defined as $\\frac{1}{2\\sigma^2}$, where $\\sigma$ is the standard deviation of the Gaussian kernel (kernel width). The Laplacian kernel is given by\n",
    "\n",
    "\\begin{equation}\n",
    "    k_{Laplacian}(\\boldsymbol{x},\\boldsymbol{x}')=e^{-\\frac{||{\\boldsymbol{x}-\\boldsymbol{x}'}||_1}{\\gamma}},\n",
    "\\end{equation}\n",
    "\n",
    "which uses the 1-norm as similarity measure. Here, $\\gamma$ is defined as $\\frac{1}{\\sigma}$, where $\\sigma$ is the kernel width of the Laplacian kernel.\n",
    "\n",
    "In the KRR training phase with $N$ training molecules, the machine learns the relationship between the molecules (represented by their Coulomb matrix) and their corresponding (pre-computed) HOMO energies. It does so by employing a function $f(\\boldsymbol{x})$ that maps a training molecule $\\boldsymbol{x}$ to its reference HOMO energy:\n",
    "\n",
    "\\begin{equation}\n",
    "f(\\boldsymbol{x}) = \\sum_{i=1}^N \\omega_i k(\\boldsymbol{x}, \\boldsymbol{x}_i) = HOMO^{ref},\n",
    "\\end{equation}\n",
    "\n",
    "For a given training molecule $\\boldsymbol{x}$, the distance to each molecule in the training set is computed by employing the kernel function $k$ (either Gaussian or Laplacian). Each kernel contribution (distance) is then weighted by a regression weight $\\omega_i$. The above function is thus given by the weighted sum of kernel contributions (sum over $N$ training molecules). The purpose of training is to fit the regression weight $\\omega_i$ so that HOMO$_{ref}$ is matched for each training molecule. In practice, the machine solves the minimization problem\n",
    "\n",
    "\n",
    "\\begin{equation}\n",
    " \\underset{\\omega}{min} \\sum_{i=1}^N (f(\\boldsymbol{x}_i) - HOMO^{ref}_i)^2 + \\alpha \\boldsymbol{\\omega}^T \\mathbf{K} \\boldsymbol{\\omega}.\n",
    "\\end{equation}\n",
    "\n",
    "for a vector $\\boldsymbol{\\omega} \\in \\mathbb{R}^N = (\\omega_1, \\omega_2, ..., \\omega_N)$ of regression weights. In KRR, the penalty term $ \\alpha \\boldsymbol{\\omega}^T \\mathbf{K} \\boldsymbol{\\omega}$ is added to the minimization problem in order to avoid over- and underfitting. Overfitting occurs when the model learns the training data too well, even the noise and other unimportant details. The model is unable to generalize on unseen data and therefore yields high prediction errors on the test data. Underfitting occurs when the model is too simple and does not learn the training data at all, and therefore is not able to predict test data well either. Both behaviours can be avoided by tuning the parameter $\\alpha \\in \\left[0,1\\right]$ to a reasonable value. This has do be done separately from training. Both the regularization parameter $\\alpha$ and the kernel width $\\gamma$ are so called hyperparameters. Hyperparameters cannot be learned during training and have to be selected beforehand. However, it is not always obvious how to choose these hyperparameters and it often requires intuition or rules of thumb. We here employ a cross-validated grid search in order to find the best values for these two hyperparameters. \n",
    "\n",
    "In grid search, a part of the training set is split off as validation set. We set up a grid of pre-defined hyperparameter values and train the machine on the remaining training set, for each possible combination of $\\alpha$ and $\\gamma$ values. We validate each possible combination by making predictions on the validation set. The two hyperparameter values that yield the best performance (lowest error) are then selected for the final model to make predictions on the test set.\n",
    "\n",
    "In cross-validation, the roles of training and validation sets alternate. As described above, a part from the training set is split off as validation set. After training one combination of hyperparameters on the remaining training set and validating on the validation set, the validation set becomes the training set and vice versa, and the model is trained on the new training set and validated on the new validation set for the same combination of hyperparameters. The ratio can be varied, for example in 5-fold cross-validation, the training set is split in 5 equal parts. For each combination of hyperparameters, the model is trained on 80% of the data and validated on the other 20%. Then the roles of training and validation set rotate until each part has served as validation set exactly once. The final validation error for one particular combination of hyperparameters is computed as the mean from all 5 errors on the 5 validation sets. The combination with lowest average error is chosen for the final model.\n",
    "\n",
    "The cross-validated grid search routine is implemented in scikit-learn."
   ]
  },
  {
   "cell_type": "code",
   "execution_count": 24,
   "metadata": {},
   "outputs": [
    {
     "name": "stdout",
     "output_type": "stream",
     "text": [
      "Fitting 2 folds for each of 9 candidates, totalling 18 fits\n",
      "[CV 1/2; 1/9] START alpha=0.01, gamma=0.01, kernel=rbf..........................\n",
      "[CV 1/2; 1/9] END ........alpha=0.01, gamma=0.01, kernel=rbf; total time=   0.1s\n",
      "[CV 2/2; 1/9] START alpha=0.01, gamma=0.01, kernel=rbf..........................\n",
      "[CV 2/2; 1/9] END ........alpha=0.01, gamma=0.01, kernel=rbf; total time=   0.1s\n",
      "[CV 1/2; 2/9] START alpha=0.01, gamma=0.1, kernel=rbf...........................\n",
      "[CV 1/2; 2/9] END .........alpha=0.01, gamma=0.1, kernel=rbf; total time=   0.1s\n",
      "[CV 2/2; 2/9] START alpha=0.01, gamma=0.1, kernel=rbf...........................\n",
      "[CV 2/2; 2/9] END .........alpha=0.01, gamma=0.1, kernel=rbf; total time=   0.1s\n",
      "[CV 1/2; 3/9] START alpha=0.01, gamma=1.0, kernel=rbf...........................\n",
      "[CV 1/2; 3/9] END .........alpha=0.01, gamma=1.0, kernel=rbf; total time=   0.0s\n",
      "[CV 2/2; 3/9] START alpha=0.01, gamma=1.0, kernel=rbf...........................\n",
      "[CV 2/2; 3/9] END .........alpha=0.01, gamma=1.0, kernel=rbf; total time=   0.0s\n",
      "[CV 1/2; 4/9] START alpha=0.1, gamma=0.01, kernel=rbf...........................\n",
      "[CV 1/2; 4/9] END .........alpha=0.1, gamma=0.01, kernel=rbf; total time=   0.0s\n",
      "[CV 2/2; 4/9] START alpha=0.1, gamma=0.01, kernel=rbf...........................\n",
      "[CV 2/2; 4/9] END .........alpha=0.1, gamma=0.01, kernel=rbf; total time=   0.1s\n",
      "[CV 1/2; 5/9] START alpha=0.1, gamma=0.1, kernel=rbf............................\n",
      "[CV 1/2; 5/9] END ..........alpha=0.1, gamma=0.1, kernel=rbf; total time=   0.1s\n",
      "[CV 2/2; 5/9] START alpha=0.1, gamma=0.1, kernel=rbf............................\n",
      "[CV 2/2; 5/9] END ..........alpha=0.1, gamma=0.1, kernel=rbf; total time=   0.1s\n",
      "[CV 1/2; 6/9] START alpha=0.1, gamma=1.0, kernel=rbf............................\n",
      "[CV 1/2; 6/9] END ..........alpha=0.1, gamma=1.0, kernel=rbf; total time=   0.0s\n",
      "[CV 2/2; 6/9] START alpha=0.1, gamma=1.0, kernel=rbf............................\n",
      "[CV 2/2; 6/9] END ..........alpha=0.1, gamma=1.0, kernel=rbf; total time=   0.0s\n",
      "[CV 1/2; 7/9] START alpha=1.0, gamma=0.01, kernel=rbf...........................\n",
      "[CV 1/2; 7/9] END .........alpha=1.0, gamma=0.01, kernel=rbf; total time=   0.1s\n",
      "[CV 2/2; 7/9] START alpha=1.0, gamma=0.01, kernel=rbf...........................\n",
      "[CV 2/2; 7/9] END .........alpha=1.0, gamma=0.01, kernel=rbf; total time=   0.0s\n",
      "[CV 1/2; 8/9] START alpha=1.0, gamma=0.1, kernel=rbf............................\n",
      "[CV 1/2; 8/9] END ..........alpha=1.0, gamma=0.1, kernel=rbf; total time=   0.1s\n",
      "[CV 2/2; 8/9] START alpha=1.0, gamma=0.1, kernel=rbf............................\n",
      "[CV 2/2; 8/9] END ..........alpha=1.0, gamma=0.1, kernel=rbf; total time=   0.1s\n",
      "[CV 1/2; 9/9] START alpha=1.0, gamma=1.0, kernel=rbf............................\n",
      "[CV 1/2; 9/9] END ..........alpha=1.0, gamma=1.0, kernel=rbf; total time=   0.1s\n",
      "[CV 2/2; 9/9] START alpha=1.0, gamma=1.0, kernel=rbf............................\n",
      "[CV 2/2; 9/9] END ..........alpha=1.0, gamma=1.0, kernel=rbf; total time=   0.0s\n"
     ]
    },
    {
     "data": {
      "text/plain": [
       "GridSearchCV(cv=2, estimator=KernelRidge(),\n",
       "             param_grid=[{'alpha': array([0.01, 0.1 , 1.  ]),\n",
       "                          'gamma': array([0.01, 0.1 , 1.  ]),\n",
       "                          'kernel': ['rbf']}],\n",
       "             scoring='neg_mean_absolute_error', verbose=1000)"
      ]
     },
     "execution_count": 24,
     "metadata": {},
     "output_type": "execute_result"
    }
   ],
   "source": [
    "# set up grids for alpha and gamma hyperparameters. \n",
    "# first value: lower bound; second value: upper bound; \n",
    "# third value: number of points to evaluate (here set to '3' --> '-2', '-1' and '0' are evaluated)\n",
    "# --> make sure to change third value as well when changing the bounds!\n",
    "alpha = np.logspace(-2, 0, 3)\n",
    "gamma = np.logspace(-2, 0, 3)\n",
    "\n",
    "cv_number = 2 ## choose into how many parts training set is divided for cross-validation\n",
    "kernel = 'rbf' # select kernel function here ('rbf': Gaussian kernel, 'laplacian': Laplacian kernel)\n",
    "scoring_function = 'neg_mean_absolute_error' # it is called \"negative\" because scikit-learn interprets\n",
    "                                             # highest scoring value as best, but we want small errors\n",
    "\n",
    "## define settings for grid search routine in scikit-learn with above defined grids as input\n",
    "\n",
    "grid_search = GridSearchCV(KernelRidge(),  #machine learning method (KRR here)\n",
    "                           [{'kernel':[kernel],'alpha': alpha, 'gamma': gamma}], \n",
    "                           cv = cv_number, \n",
    "                           scoring = scoring_function,\n",
    "                           verbose=1000)  ## produces detailed output statements of grid search \n",
    "                                          # routine so we can see what is computed\n",
    "    \n",
    "# call the fit function in scikit-learn which fits the Coulomb matrices in the training set \n",
    "# to their corresponding HOMO energies.\n",
    "grid_search.fit(x_train, y_train)"
   ]
  },
  {
   "cell_type": "markdown",
   "metadata": {},
   "source": [
    "## Grid search results\n",
    "\n",
    "Print out the average validation errors and corresponding hyperparameter combinations"
   ]
  },
  {
   "cell_type": "code",
   "execution_count": 25,
   "metadata": {},
   "outputs": [
    {
     "name": "stdout",
     "output_type": "stream",
     "text": [
      "5.751 (+/-0.051) for {'alpha': 0.01, 'gamma': 0.01, 'kernel': 'rbf'}\n",
      "5.752 (+/-0.051) for {'alpha': 0.01, 'gamma': 0.1, 'kernel': 'rbf'}\n",
      "5.752 (+/-0.051) for {'alpha': 0.01, 'gamma': 1.0, 'kernel': 'rbf'}\n",
      "5.751 (+/-0.051) for {'alpha': 0.1, 'gamma': 0.01, 'kernel': 'rbf'}\n",
      "5.752 (+/-0.051) for {'alpha': 0.1, 'gamma': 0.1, 'kernel': 'rbf'}\n",
      "5.752 (+/-0.051) for {'alpha': 0.1, 'gamma': 1.0, 'kernel': 'rbf'}\n",
      "5.752 (+/-0.051) for {'alpha': 1.0, 'gamma': 0.01, 'kernel': 'rbf'}\n",
      "5.752 (+/-0.051) for {'alpha': 1.0, 'gamma': 0.1, 'kernel': 'rbf'}\n",
      "5.752 (+/-0.051) for {'alpha': 1.0, 'gamma': 1.0, 'kernel': 'rbf'}\n"
     ]
    }
   ],
   "source": [
    "means = grid_search.cv_results_['mean_test_score']\n",
    "stds = grid_search.cv_results_['std_test_score']\n",
    "for mean, std, params in zip(-means, stds, grid_search.cv_results_['params']):\n",
    "    print(\"%0.3f (+/-%0.03f) for %r\" % (mean, std * 2, params))"
   ]
  },
  {
   "cell_type": "markdown",
   "metadata": {},
   "source": [
    "Next, we visualize the grid search results by plotting a heatmap."
   ]
  },
  {
   "cell_type": "code",
   "execution_count": 26,
   "metadata": {},
   "outputs": [
    {
     "data": {
      "image/png": "[encoded data removed]",
      "text/plain": [
       "<Figure size 432x288 with 2 Axes>"
      ]
     },
     "metadata": {
      "needs_background": "light"
     },
     "output_type": "display_data"
    },
    {
     "name": "stdout",
     "output_type": "stream",
     "text": [
      "The best combinations of parameters are {'alpha': 0.01, 'gamma': 0.01, 'kernel': 'rbf'} with a score of 5.751 eV on the validation set.\n"
     ]
    }
   ],
   "source": [
    "results = pd.DataFrame(grid_search.cv_results_)\n",
    "#pd.DataFrame(grid_search.cv_results_)\n",
    "\n",
    "pvt = pd.pivot_table(results, values='mean_test_score', \n",
    "                     index='param_gamma', columns='param_alpha')\n",
    "heatmap = sns.heatmap(-pvt, annot=True, cmap='viridis', cbar_kws={'label': \"Mean absolute error [eV]\"})\n",
    "figure = heatmap.get_figure()\n",
    "plt.show()\n",
    "\n",
    "\n",
    "print(\"The best combinations of parameters are %s with a score of %0.3f eV on the validation set.\"\n",
    "      % (grid_search.best_params_, -grid_search.best_score_))"
   ]
  },
  {
   "cell_type": "markdown",
   "metadata": {},
   "source": [
    "## Testing\n",
    "\n",
    "With the best combination of hyperparameters, the model is once again trained on the entire training set (this is done automatically in scikit-learn). Then, with the best combination of hyperparameters, predictions are made on the test set to evaluate the final model. With the fitted regressions weights $\\omega_i$ and the selected hyperparameter $\\gamma$ (kernel width), the final model is used to predict the energies of the test molecules. The energy of a particular test molecule $\\boldsymbol{x}$ is predicted by computing the weighted sum of kernel contributions $k(\\boldsymbol{x}, \\boldsymbol{x}_i)$ between the test molecule $\\boldsymbol{x}$ and each of the $N$ molecules $\\boldsymbol{x}_i$ in the training set (sum over $N$):\n",
    "\n",
    "\\begin{equation}\n",
    "f(x) = \\sum_{i=1}^N \\omega_i k(\\boldsymbol{x}, \\boldsymbol{x}_i) = HOMO^{pred},\n",
    "\\end{equation}\n",
    "\n",
    "The deviation of the predicted HOMO energies to the true reference HOMO energies yields the final error of the model. We compute the mean absolute error between predicted and reference HOMO energies for all $M$ test molecules (sum over $M$):\n",
    "\n",
    "\\begin{equation}\n",
    "\\sum_{i=1}^M \\frac{1}{M} \\big|HOMO^{pred} - HOMO^{ref}\\big|\n",
    "\\end{equation}\n"
   ]
  },
  {
   "cell_type": "code",
   "execution_count": 27,
   "metadata": {},
   "outputs": [
    {
     "name": "stdout",
     "output_type": "stream",
     "text": [
      "Mean absolute error on test set: 5.790 eV\n"
     ]
    },
    {
     "data": {
      "image/png": "[encoded data removed]",
      "text/plain": [
       "<Figure size 432x288 with 1 Axes>"
      ]
     },
     "metadata": {
      "needs_background": "light"
     },
     "output_type": "display_data"
    },
    {
     "name": "stdout",
     "output_type": "stream",
     "text": [
      "R^2 score on test set: -132.239\n"
     ]
    }
   ],
   "source": [
    "# predicted HOMO energies for all test molecules\n",
    "\n",
    "y_pred = grid_search.predict(x_test) # scikit-learn automatically takes the best combination\n",
    "                                     # of hyperparameters from grid search\n",
    "\n",
    "print(\"Mean absolute error on test set: %0.3f eV\" %(np.abs(y_pred-y_test)).mean())\n",
    "\n",
    "# do the regression plot\n",
    "plt.plot(y_test, y_pred, 'o')\n",
    "plt.plot([np.min(y_test),np.max(y_test)], [np.min(y_test),np.max(y_test)], '-')\n",
    "plt.xlabel('reference HOMO energy [eV]')\n",
    "plt.ylabel('predicted HOMO energy [eV]')\n",
    "plt.show()\n",
    "print(\"R^2 score on test set: %.3f\" % r2_score(y_test, y_pred))"
   ]
  },
  {
   "cell_type": "markdown",
   "metadata": {},
   "source": [
    "The $R^2$ score indicates how close the predicted energies in the test set are to the reference energies. The closer the points in the above figure are located to the diagonal, the better the predictions. Points on the diagonal (\"predicted energy\"=\"reference energy\") correspond to $R^2=1$. Therefore, $R^2$ values close to 1 indicate good model performance."
   ]
  },
  {
   "cell_type": "markdown",
   "metadata": {
    "collapsed": true
   },
   "source": [
    "## Exercises\n",
    "\n",
    "### 1. Grid search\n",
    "\n",
    "Increase the number and range of grid points used for grid search. Which combination of $\\alpha$ and $\\gamma$ works best? How does the computational time increase? Choose a reasonable number of grid points that don't take too long to evaluate."
   ]
  },
  {
   "cell_type": "markdown",
   "metadata": {},
   "source": [
    "#### My Solution:\n",
    "\n",
    "Let's increase the grid to (-4,0,6). that is the grid is from 10^-4 to 1 with 6 equally spaced positions."
   ]
  },
  {
   "cell_type": "code",
   "execution_count": 14,
   "metadata": {},
   "outputs": [
    {
     "name": "stdout",
     "output_type": "stream",
     "text": [
      "Fitting 2 folds for each of 36 candidates, totalling 72 fits\n",
      "[CV 1/2; 1/36] START alpha=0.0001, gamma=0.0001, kernel=rbf.....................\n",
      "[CV 1/2; 1/36] END ...alpha=0.0001, gamma=0.0001, kernel=rbf; total time=   0.1s\n",
      "[CV 2/2; 1/36] START alpha=0.0001, gamma=0.0001, kernel=rbf.....................\n",
      "[CV 2/2; 1/36] END ...alpha=0.0001, gamma=0.0001, kernel=rbf; total time=   0.1s\n",
      "[CV 1/2; 2/36] START alpha=0.0001, gamma=0.000630957344480193, kernel=rbf.......\n",
      "[CV 1/2; 2/36] END alpha=0.0001, gamma=0.000630957344480193, kernel=rbf; total time=   0.0s\n",
      "[CV 2/2; 2/36] START alpha=0.0001, gamma=0.000630957344480193, kernel=rbf.......\n",
      "[CV 2/2; 2/36] END alpha=0.0001, gamma=0.000630957344480193, kernel=rbf; total time=   0.1s\n",
      "[CV 1/2; 3/36] START alpha=0.0001, gamma=0.003981071705534973, kernel=rbf.......\n",
      "[CV 1/2; 3/36] END alpha=0.0001, gamma=0.003981071705534973, kernel=rbf; total time=   0.0s\n",
      "[CV 2/2; 3/36] START alpha=0.0001, gamma=0.003981071705534973, kernel=rbf.......\n",
      "[CV 2/2; 3/36] END alpha=0.0001, gamma=0.003981071705534973, kernel=rbf; total time=   0.0s\n",
      "[CV 1/2; 4/36] START alpha=0.0001, gamma=0.025118864315095822, kernel=rbf.......\n",
      "[CV 1/2; 4/36] END alpha=0.0001, gamma=0.025118864315095822, kernel=rbf; total time=   0.0s\n",
      "[CV 2/2; 4/36] START alpha=0.0001, gamma=0.025118864315095822, kernel=rbf.......\n",
      "[CV 2/2; 4/36] END alpha=0.0001, gamma=0.025118864315095822, kernel=rbf; total time=   0.0s\n",
      "[CV 1/2; 5/36] START alpha=0.0001, gamma=0.15848931924611143, kernel=rbf........\n",
      "[CV 1/2; 5/36] END alpha=0.0001, gamma=0.15848931924611143, kernel=rbf; total time=   0.1s\n",
      "[CV 2/2; 5/36] START alpha=0.0001, gamma=0.15848931924611143, kernel=rbf........\n",
      "[CV 2/2; 5/36] END alpha=0.0001, gamma=0.15848931924611143, kernel=rbf; total time=   0.0s\n",
      "[CV 1/2; 6/36] START alpha=0.0001, gamma=1.0, kernel=rbf........................\n",
      "[CV 1/2; 6/36] END ......alpha=0.0001, gamma=1.0, kernel=rbf; total time=   0.0s\n",
      "[CV 2/2; 6/36] START alpha=0.0001, gamma=1.0, kernel=rbf........................\n",
      "[CV 2/2; 6/36] END ......alpha=0.0001, gamma=1.0, kernel=rbf; total time=   0.0s\n",
      "[CV 1/2; 7/36] START alpha=0.000630957344480193, gamma=0.0001, kernel=rbf.......\n",
      "[CV 1/2; 7/36] END alpha=0.000630957344480193, gamma=0.0001, kernel=rbf; total time=   0.0s\n",
      "[CV 2/2; 7/36] START alpha=0.000630957344480193, gamma=0.0001, kernel=rbf.......\n",
      "[CV 2/2; 7/36] END alpha=0.000630957344480193, gamma=0.0001, kernel=rbf; total time=   0.0s\n",
      "[CV 1/2; 8/36] START alpha=0.000630957344480193, gamma=0.000630957344480193, kernel=rbf\n",
      "[CV 1/2; 8/36] END alpha=0.000630957344480193, gamma=0.000630957344480193, kernel=rbf; total time=   0.0s\n",
      "[CV 2/2; 8/36] START alpha=0.000630957344480193, gamma=0.000630957344480193, kernel=rbf\n",
      "[CV 2/2; 8/36] END alpha=0.000630957344480193, gamma=0.000630957344480193, kernel=rbf; total time=   0.0s\n",
      "[CV 1/2; 9/36] START alpha=0.000630957344480193, gamma=0.003981071705534973, kernel=rbf\n",
      "[CV 1/2; 9/36] END alpha=0.000630957344480193, gamma=0.003981071705534973, kernel=rbf; total time=   0.0s\n",
      "[CV 2/2; 9/36] START alpha=0.000630957344480193, gamma=0.003981071705534973, kernel=rbf\n",
      "[CV 2/2; 9/36] END alpha=0.000630957344480193, gamma=0.003981071705534973, kernel=rbf; total time=   0.0s\n",
      "[CV 1/2; 10/36] START alpha=0.000630957344480193, gamma=0.025118864315095822, kernel=rbf\n",
      "[CV 1/2; 10/36] END alpha=0.000630957344480193, gamma=0.025118864315095822, kernel=rbf; total time=   0.1s\n",
      "[CV 2/2; 10/36] START alpha=0.000630957344480193, gamma=0.025118864315095822, kernel=rbf\n",
      "[CV 2/2; 10/36] END alpha=0.000630957344480193, gamma=0.025118864315095822, kernel=rbf; total time=   0.0s\n",
      "[CV 1/2; 11/36] START alpha=0.000630957344480193, gamma=0.15848931924611143, kernel=rbf\n",
      "[CV 1/2; 11/36] END alpha=0.000630957344480193, gamma=0.15848931924611143, kernel=rbf; total time=   0.0s\n",
      "[CV 2/2; 11/36] START alpha=0.000630957344480193, gamma=0.15848931924611143, kernel=rbf\n",
      "[CV 2/2; 11/36] END alpha=0.000630957344480193, gamma=0.15848931924611143, kernel=rbf; total time=   0.0s\n",
      "[CV 1/2; 12/36] START alpha=0.000630957344480193, gamma=1.0, kernel=rbf.........\n",
      "[CV 1/2; 12/36] END alpha=0.000630957344480193, gamma=1.0, kernel=rbf; total time=   0.0s\n",
      "[CV 2/2; 12/36] START alpha=0.000630957344480193, gamma=1.0, kernel=rbf.........\n",
      "[CV 2/2; 12/36] END alpha=0.000630957344480193, gamma=1.0, kernel=rbf; total time=   0.1s\n",
      "[CV 1/2; 13/36] START alpha=0.003981071705534973, gamma=0.0001, kernel=rbf......\n",
      "[CV 1/2; 13/36] END alpha=0.003981071705534973, gamma=0.0001, kernel=rbf; total time=   0.1s\n",
      "[CV 2/2; 13/36] START alpha=0.003981071705534973, gamma=0.0001, kernel=rbf......\n",
      "[CV 2/2; 13/36] END alpha=0.003981071705534973, gamma=0.0001, kernel=rbf; total time=   0.1s\n",
      "[CV 1/2; 14/36] START alpha=0.003981071705534973, gamma=0.000630957344480193, kernel=rbf\n",
      "[CV 1/2; 14/36] END alpha=0.003981071705534973, gamma=0.000630957344480193, kernel=rbf; total time=   0.1s\n",
      "[CV 2/2; 14/36] START alpha=0.003981071705534973, gamma=0.000630957344480193, kernel=rbf\n",
      "[CV 2/2; 14/36] END alpha=0.003981071705534973, gamma=0.000630957344480193, kernel=rbf; total time=   0.1s\n",
      "[CV 1/2; 15/36] START alpha=0.003981071705534973, gamma=0.003981071705534973, kernel=rbf\n",
      "[CV 1/2; 15/36] END alpha=0.003981071705534973, gamma=0.003981071705534973, kernel=rbf; total time=   0.1s\n",
      "[CV 2/2; 15/36] START alpha=0.003981071705534973, gamma=0.003981071705534973, kernel=rbf\n",
      "[CV 2/2; 15/36] END alpha=0.003981071705534973, gamma=0.003981071705534973, kernel=rbf; total time=   0.0s\n",
      "[CV 1/2; 16/36] START alpha=0.003981071705534973, gamma=0.025118864315095822, kernel=rbf\n",
      "[CV 1/2; 16/36] END alpha=0.003981071705534973, gamma=0.025118864315095822, kernel=rbf; total time=   0.1s\n",
      "[CV 2/2; 16/36] START alpha=0.003981071705534973, gamma=0.025118864315095822, kernel=rbf\n",
      "[CV 2/2; 16/36] END alpha=0.003981071705534973, gamma=0.025118864315095822, kernel=rbf; total time=   0.0s\n",
      "[CV 1/2; 17/36] START alpha=0.003981071705534973, gamma=0.15848931924611143, kernel=rbf\n",
      "[CV 1/2; 17/36] END alpha=0.003981071705534973, gamma=0.15848931924611143, kernel=rbf; total time=   0.0s\n",
      "[CV 2/2; 17/36] START alpha=0.003981071705534973, gamma=0.15848931924611143, kernel=rbf\n",
      "[CV 2/2; 17/36] END alpha=0.003981071705534973, gamma=0.15848931924611143, kernel=rbf; total time=   0.0s\n",
      "[CV 1/2; 18/36] START alpha=0.003981071705534973, gamma=1.0, kernel=rbf.........\n",
      "[CV 1/2; 18/36] END alpha=0.003981071705534973, gamma=1.0, kernel=rbf; total time=   0.0s\n",
      "[CV 2/2; 18/36] START alpha=0.003981071705534973, gamma=1.0, kernel=rbf.........\n",
      "[CV 2/2; 18/36] END alpha=0.003981071705534973, gamma=1.0, kernel=rbf; total time=   0.1s\n",
      "[CV 1/2; 19/36] START alpha=0.025118864315095822, gamma=0.0001, kernel=rbf......\n",
      "[CV 1/2; 19/36] END alpha=0.025118864315095822, gamma=0.0001, kernel=rbf; total time=   0.0s\n",
      "[CV 2/2; 19/36] START alpha=0.025118864315095822, gamma=0.0001, kernel=rbf......\n",
      "[CV 2/2; 19/36] END alpha=0.025118864315095822, gamma=0.0001, kernel=rbf; total time=   0.0s\n",
      "[CV 1/2; 20/36] START alpha=0.025118864315095822, gamma=0.000630957344480193, kernel=rbf\n",
      "[CV 1/2; 20/36] END alpha=0.025118864315095822, gamma=0.000630957344480193, kernel=rbf; total time=   0.0s\n",
      "[CV 2/2; 20/36] START alpha=0.025118864315095822, gamma=0.000630957344480193, kernel=rbf\n",
      "[CV 2/2; 20/36] END alpha=0.025118864315095822, gamma=0.000630957344480193, kernel=rbf; total time=   0.0s\n",
      "[CV 1/2; 21/36] START alpha=0.025118864315095822, gamma=0.003981071705534973, kernel=rbf\n",
      "[CV 1/2; 21/36] END alpha=0.025118864315095822, gamma=0.003981071705534973, kernel=rbf; total time=   0.1s\n",
      "[CV 2/2; 21/36] START alpha=0.025118864315095822, gamma=0.003981071705534973, kernel=rbf\n",
      "[CV 2/2; 21/36] END alpha=0.025118864315095822, gamma=0.003981071705534973, kernel=rbf; total time=   0.1s\n",
      "[CV 1/2; 22/36] START alpha=0.025118864315095822, gamma=0.025118864315095822, kernel=rbf\n",
      "[CV 1/2; 22/36] END alpha=0.025118864315095822, gamma=0.025118864315095822, kernel=rbf; total time=   0.0s\n",
      "[CV 2/2; 22/36] START alpha=0.025118864315095822, gamma=0.025118864315095822, kernel=rbf\n",
      "[CV 2/2; 22/36] END alpha=0.025118864315095822, gamma=0.025118864315095822, kernel=rbf; total time=   0.0s\n",
      "[CV 1/2; 23/36] START alpha=0.025118864315095822, gamma=0.15848931924611143, kernel=rbf\n",
      "[CV 1/2; 23/36] END alpha=0.025118864315095822, gamma=0.15848931924611143, kernel=rbf; total time=   0.0s\n",
      "[CV 2/2; 23/36] START alpha=0.025118864315095822, gamma=0.15848931924611143, kernel=rbf\n"
     ]
    },
    {
     "name": "stdout",
     "output_type": "stream",
     "text": [
      "[CV 2/2; 23/36] END alpha=0.025118864315095822, gamma=0.15848931924611143, kernel=rbf; total time=   0.1s\n",
      "[CV 1/2; 24/36] START alpha=0.025118864315095822, gamma=1.0, kernel=rbf.........\n",
      "[CV 1/2; 24/36] END alpha=0.025118864315095822, gamma=1.0, kernel=rbf; total time=   0.0s\n",
      "[CV 2/2; 24/36] START alpha=0.025118864315095822, gamma=1.0, kernel=rbf.........\n",
      "[CV 2/2; 24/36] END alpha=0.025118864315095822, gamma=1.0, kernel=rbf; total time=   0.0s\n",
      "[CV 1/2; 25/36] START alpha=0.15848931924611143, gamma=0.0001, kernel=rbf.......\n",
      "[CV 1/2; 25/36] END alpha=0.15848931924611143, gamma=0.0001, kernel=rbf; total time=   0.1s\n",
      "[CV 2/2; 25/36] START alpha=0.15848931924611143, gamma=0.0001, kernel=rbf.......\n",
      "[CV 2/2; 25/36] END alpha=0.15848931924611143, gamma=0.0001, kernel=rbf; total time=   0.1s\n",
      "[CV 1/2; 26/36] START alpha=0.15848931924611143, gamma=0.000630957344480193, kernel=rbf\n",
      "[CV 1/2; 26/36] END alpha=0.15848931924611143, gamma=0.000630957344480193, kernel=rbf; total time=   0.1s\n",
      "[CV 2/2; 26/36] START alpha=0.15848931924611143, gamma=0.000630957344480193, kernel=rbf\n",
      "[CV 2/2; 26/36] END alpha=0.15848931924611143, gamma=0.000630957344480193, kernel=rbf; total time=   0.1s\n",
      "[CV 1/2; 27/36] START alpha=0.15848931924611143, gamma=0.003981071705534973, kernel=rbf\n",
      "[CV 1/2; 27/36] END alpha=0.15848931924611143, gamma=0.003981071705534973, kernel=rbf; total time=   0.0s\n",
      "[CV 2/2; 27/36] START alpha=0.15848931924611143, gamma=0.003981071705534973, kernel=rbf\n",
      "[CV 2/2; 27/36] END alpha=0.15848931924611143, gamma=0.003981071705534973, kernel=rbf; total time=   0.0s\n",
      "[CV 1/2; 28/36] START alpha=0.15848931924611143, gamma=0.025118864315095822, kernel=rbf\n",
      "[CV 1/2; 28/36] END alpha=0.15848931924611143, gamma=0.025118864315095822, kernel=rbf; total time=   0.0s\n",
      "[CV 2/2; 28/36] START alpha=0.15848931924611143, gamma=0.025118864315095822, kernel=rbf\n",
      "[CV 2/2; 28/36] END alpha=0.15848931924611143, gamma=0.025118864315095822, kernel=rbf; total time=   0.1s\n",
      "[CV 1/2; 29/36] START alpha=0.15848931924611143, gamma=0.15848931924611143, kernel=rbf\n",
      "[CV 1/2; 29/36] END alpha=0.15848931924611143, gamma=0.15848931924611143, kernel=rbf; total time=   0.1s\n",
      "[CV 2/2; 29/36] START alpha=0.15848931924611143, gamma=0.15848931924611143, kernel=rbf\n",
      "[CV 2/2; 29/36] END alpha=0.15848931924611143, gamma=0.15848931924611143, kernel=rbf; total time=   0.1s\n",
      "[CV 1/2; 30/36] START alpha=0.15848931924611143, gamma=1.0, kernel=rbf..........\n",
      "[CV 1/2; 30/36] END alpha=0.15848931924611143, gamma=1.0, kernel=rbf; total time=   0.1s\n",
      "[CV 2/2; 30/36] START alpha=0.15848931924611143, gamma=1.0, kernel=rbf..........\n",
      "[CV 2/2; 30/36] END alpha=0.15848931924611143, gamma=1.0, kernel=rbf; total time=   0.0s\n",
      "[CV 1/2; 31/36] START alpha=1.0, gamma=0.0001, kernel=rbf.......................\n",
      "[CV 1/2; 31/36] END .....alpha=1.0, gamma=0.0001, kernel=rbf; total time=   0.0s\n",
      "[CV 2/2; 31/36] START alpha=1.0, gamma=0.0001, kernel=rbf.......................\n",
      "[CV 2/2; 31/36] END .....alpha=1.0, gamma=0.0001, kernel=rbf; total time=   0.0s\n",
      "[CV 1/2; 32/36] START alpha=1.0, gamma=0.000630957344480193, kernel=rbf.........\n",
      "[CV 1/2; 32/36] END alpha=1.0, gamma=0.000630957344480193, kernel=rbf; total time=   0.1s\n",
      "[CV 2/2; 32/36] START alpha=1.0, gamma=0.000630957344480193, kernel=rbf.........\n",
      "[CV 2/2; 32/36] END alpha=1.0, gamma=0.000630957344480193, kernel=rbf; total time=   0.1s\n",
      "[CV 1/2; 33/36] START alpha=1.0, gamma=0.003981071705534973, kernel=rbf.........\n",
      "[CV 1/2; 33/36] END alpha=1.0, gamma=0.003981071705534973, kernel=rbf; total time=   0.1s\n",
      "[CV 2/2; 33/36] START alpha=1.0, gamma=0.003981071705534973, kernel=rbf.........\n",
      "[CV 2/2; 33/36] END alpha=1.0, gamma=0.003981071705534973, kernel=rbf; total time=   0.1s\n",
      "[CV 1/2; 34/36] START alpha=1.0, gamma=0.025118864315095822, kernel=rbf.........\n",
      "[CV 1/2; 34/36] END alpha=1.0, gamma=0.025118864315095822, kernel=rbf; total time=   0.1s\n",
      "[CV 2/2; 34/36] START alpha=1.0, gamma=0.025118864315095822, kernel=rbf.........\n",
      "[CV 2/2; 34/36] END alpha=1.0, gamma=0.025118864315095822, kernel=rbf; total time=   0.1s\n",
      "[CV 1/2; 35/36] START alpha=1.0, gamma=0.15848931924611143, kernel=rbf..........\n",
      "[CV 1/2; 35/36] END alpha=1.0, gamma=0.15848931924611143, kernel=rbf; total time=   0.1s\n",
      "[CV 2/2; 35/36] START alpha=1.0, gamma=0.15848931924611143, kernel=rbf..........\n",
      "[CV 2/2; 35/36] END alpha=1.0, gamma=0.15848931924611143, kernel=rbf; total time=   0.1s\n",
      "[CV 1/2; 36/36] START alpha=1.0, gamma=1.0, kernel=rbf..........................\n",
      "[CV 1/2; 36/36] END ........alpha=1.0, gamma=1.0, kernel=rbf; total time=   0.1s\n",
      "[CV 2/2; 36/36] START alpha=1.0, gamma=1.0, kernel=rbf..........................\n",
      "[CV 2/2; 36/36] END ........alpha=1.0, gamma=1.0, kernel=rbf; total time=   0.1s\n",
      "0.430 (+/-0.079) for {'alpha': 0.0001, 'gamma': 0.0001, 'kernel': 'rbf'}\n",
      "1.694 (+/-0.147) for {'alpha': 0.0001, 'gamma': 0.000630957344480193, 'kernel': 'rbf'}\n",
      "5.727 (+/-0.051) for {'alpha': 0.0001, 'gamma': 0.003981071705534973, 'kernel': 'rbf'}\n",
      "5.752 (+/-0.051) for {'alpha': 0.0001, 'gamma': 0.025118864315095822, 'kernel': 'rbf'}\n",
      "5.752 (+/-0.051) for {'alpha': 0.0001, 'gamma': 0.15848931924611143, 'kernel': 'rbf'}\n",
      "5.752 (+/-0.051) for {'alpha': 0.0001, 'gamma': 1.0, 'kernel': 'rbf'}\n",
      "0.430 (+/-0.080) for {'alpha': 0.000630957344480193, 'gamma': 0.0001, 'kernel': 'rbf'}\n",
      "1.694 (+/-0.147) for {'alpha': 0.000630957344480193, 'gamma': 0.000630957344480193, 'kernel': 'rbf'}\n",
      "5.727 (+/-0.051) for {'alpha': 0.000630957344480193, 'gamma': 0.003981071705534973, 'kernel': 'rbf'}\n",
      "5.752 (+/-0.051) for {'alpha': 0.000630957344480193, 'gamma': 0.025118864315095822, 'kernel': 'rbf'}\n",
      "5.752 (+/-0.051) for {'alpha': 0.000630957344480193, 'gamma': 0.15848931924611143, 'kernel': 'rbf'}\n",
      "5.752 (+/-0.051) for {'alpha': 0.000630957344480193, 'gamma': 1.0, 'kernel': 'rbf'}\n",
      "0.428 (+/-0.080) for {'alpha': 0.003981071705534973, 'gamma': 0.0001, 'kernel': 'rbf'}\n",
      "1.696 (+/-0.147) for {'alpha': 0.003981071705534973, 'gamma': 0.000630957344480193, 'kernel': 'rbf'}\n",
      "5.727 (+/-0.051) for {'alpha': 0.003981071705534973, 'gamma': 0.003981071705534973, 'kernel': 'rbf'}\n",
      "5.752 (+/-0.051) for {'alpha': 0.003981071705534973, 'gamma': 0.025118864315095822, 'kernel': 'rbf'}\n",
      "5.752 (+/-0.051) for {'alpha': 0.003981071705534973, 'gamma': 0.15848931924611143, 'kernel': 'rbf'}\n",
      "5.752 (+/-0.051) for {'alpha': 0.003981071705534973, 'gamma': 1.0, 'kernel': 'rbf'}\n",
      "0.428 (+/-0.085) for {'alpha': 0.025118864315095822, 'gamma': 0.0001, 'kernel': 'rbf'}\n",
      "1.708 (+/-0.147) for {'alpha': 0.025118864315095822, 'gamma': 0.000630957344480193, 'kernel': 'rbf'}\n",
      "5.728 (+/-0.051) for {'alpha': 0.025118864315095822, 'gamma': 0.003981071705534973, 'kernel': 'rbf'}\n",
      "5.752 (+/-0.051) for {'alpha': 0.025118864315095822, 'gamma': 0.025118864315095822, 'kernel': 'rbf'}\n",
      "5.752 (+/-0.051) for {'alpha': 0.025118864315095822, 'gamma': 0.15848931924611143, 'kernel': 'rbf'}\n",
      "5.752 (+/-0.051) for {'alpha': 0.025118864315095822, 'gamma': 1.0, 'kernel': 'rbf'}\n",
      "0.448 (+/-0.100) for {'alpha': 0.15848931924611143, 'gamma': 0.0001, 'kernel': 'rbf'}\n",
      "1.779 (+/-0.152) for {'alpha': 0.15848931924611143, 'gamma': 0.000630957344480193, 'kernel': 'rbf'}\n",
      "5.731 (+/-0.051) for {'alpha': 0.15848931924611143, 'gamma': 0.003981071705534973, 'kernel': 'rbf'}\n",
      "5.752 (+/-0.051) for {'alpha': 0.15848931924611143, 'gamma': 0.025118864315095822, 'kernel': 'rbf'}\n",
      "5.752 (+/-0.051) for {'alpha': 0.15848931924611143, 'gamma': 0.15848931924611143, 'kernel': 'rbf'}\n",
      "5.752 (+/-0.051) for {'alpha': 0.15848931924611143, 'gamma': 1.0, 'kernel': 'rbf'}\n",
      "0.526 (+/-0.114) for {'alpha': 1.0, 'gamma': 0.0001, 'kernel': 'rbf'}\n",
      "2.142 (+/-0.161) for {'alpha': 1.0, 'gamma': 0.000630957344480193, 'kernel': 'rbf'}\n",
      "5.740 (+/-0.051) for {'alpha': 1.0, 'gamma': 0.003981071705534973, 'kernel': 'rbf'}\n",
      "5.752 (+/-0.051) for {'alpha': 1.0, 'gamma': 0.025118864315095822, 'kernel': 'rbf'}\n",
      "5.752 (+/-0.051) for {'alpha': 1.0, 'gamma': 0.15848931924611143, 'kernel': 'rbf'}\n",
      "5.752 (+/-0.051) for {'alpha': 1.0, 'gamma': 1.0, 'kernel': 'rbf'}\n",
      "The best combinations of parameters are {'alpha': 0.025118864315095822, 'gamma': 0.0001, 'kernel': 'rbf'} with a score of 0.428 eV on the validation set.\n"
     ]
    }
   ],
   "source": [
    "alpha = np.logspace(-4, 0, 6)\n",
    "gamma = np.logspace(-4, 0, 6)\n",
    "\n",
    "cv_number = 2 \n",
    "kernel = 'rbf' \n",
    "scoring_function = 'neg_mean_absolute_error'\n",
    "\n",
    "grid_search = GridSearchCV(KernelRidge(), \n",
    "                           [{'kernel':[kernel],'alpha': alpha, 'gamma': gamma}], \n",
    "                           cv = cv_number, \n",
    "                           scoring = scoring_function,\n",
    "                           verbose=1000)\n",
    "grid_search.fit(x_train, y_train)\n",
    "\n",
    "##################################\n",
    "\n",
    "means = grid_search.cv_results_['mean_test_score']\n",
    "stds = grid_search.cv_results_['std_test_score']\n",
    "for mean, std, params in zip(-means, stds, grid_search.cv_results_['params']):\n",
    "    print(\"%0.3f (+/-%0.03f) for %r\" % (mean, std * 2, params))\n",
    "\n",
    "print(\"The best combinations of parameters are %s with a score of %0.3f eV on the validation set.\"\n",
    "      % (grid_search.best_params_, -grid_search.best_score_))"
   ]
  },
  {
   "cell_type": "code",
   "execution_count": 15,
   "metadata": {},
   "outputs": [
    {
     "name": "stdout",
     "output_type": "stream",
     "text": [
      "Mean absolute error on test set: 0.31730 eV\n"
     ]
    },
    {
     "data": {
      "image/png": "[encoded data removed]",
      "text/plain": [
       "<Figure size 432x288 with 1 Axes>"
      ]
     },
     "metadata": {
      "needs_background": "light"
     },
     "output_type": "display_data"
    },
    {
     "name": "stdout",
     "output_type": "stream",
     "text": [
      "R^2 score on test set: 0.21771\n"
     ]
    }
   ],
   "source": [
    "y_pred = grid_search.predict(x_test) \n",
    "\n",
    "print(\"Mean absolute error on test set: %0.5f eV\" %(np.abs(y_pred-y_test)).mean())\n",
    "\n",
    "# do the regression plot\n",
    "plt.plot(y_test, y_pred, 'o')\n",
    "plt.plot([np.min(y_test),np.max(y_test)], [np.min(y_test),np.max(y_test)], '-')\n",
    "plt.xlabel('reference HOMO energy [eV]')\n",
    "plt.ylabel('predicted HOMO energy [eV]')\n",
    "plt.show()\n",
    "print(\"R^2 score on test set: %.5f\" % r2_score(y_test, y_pred))"
   ]
  },
  {
   "cell_type": "markdown",
   "metadata": {},
   "source": [
    " So expanding the grid did produce better results. But the computation time is a little bit more."
   ]
  },
  {
   "cell_type": "markdown",
   "metadata": {},
   "source": [
    "### 2. Cross-validation\n",
    "\n",
    "Increase the number of folds used for cross-validation. Does the quality of the model increase? Take note as well of the increasing computational time and choose a number of folds that does not require too much computational time."
   ]
  },
  {
   "cell_type": "markdown",
   "metadata": {},
   "source": [
    "#### My Solution:\n",
    "\n",
    "Now increase the folds (CV number) from 2 to 4 and check if it changes anything!"
   ]
  },
  {
   "cell_type": "code",
   "execution_count": 32,
   "metadata": {},
   "outputs": [
    {
     "name": "stdout",
     "output_type": "stream",
     "text": [
      "Fitting 2 folds for each of 9 candidates, totalling 18 fits\n",
      "[CV 1/2; 1/9] START alpha=0.01, gamma=0.01, kernel=rbf..........................\n",
      "[CV 1/2; 1/9] END ........alpha=0.01, gamma=0.01, kernel=rbf; total time=   0.1s\n",
      "[CV 2/2; 1/9] START alpha=0.01, gamma=0.01, kernel=rbf..........................\n",
      "[CV 2/2; 1/9] END ........alpha=0.01, gamma=0.01, kernel=rbf; total time=   0.1s\n",
      "[CV 1/2; 2/9] START alpha=0.01, gamma=0.1, kernel=rbf...........................\n",
      "[CV 1/2; 2/9] END .........alpha=0.01, gamma=0.1, kernel=rbf; total time=   0.1s\n",
      "[CV 2/2; 2/9] START alpha=0.01, gamma=0.1, kernel=rbf...........................\n",
      "[CV 2/2; 2/9] END .........alpha=0.01, gamma=0.1, kernel=rbf; total time=   0.1s\n",
      "[CV 1/2; 3/9] START alpha=0.01, gamma=1.0, kernel=rbf...........................\n",
      "[CV 1/2; 3/9] END .........alpha=0.01, gamma=1.0, kernel=rbf; total time=   0.0s\n",
      "[CV 2/2; 3/9] START alpha=0.01, gamma=1.0, kernel=rbf...........................\n",
      "[CV 2/2; 3/9] END .........alpha=0.01, gamma=1.0, kernel=rbf; total time=   0.0s\n",
      "[CV 1/2; 4/9] START alpha=0.1, gamma=0.01, kernel=rbf...........................\n",
      "[CV 1/2; 4/9] END .........alpha=0.1, gamma=0.01, kernel=rbf; total time=   0.0s\n",
      "[CV 2/2; 4/9] START alpha=0.1, gamma=0.01, kernel=rbf...........................\n",
      "[CV 2/2; 4/9] END .........alpha=0.1, gamma=0.01, kernel=rbf; total time=   0.0s\n",
      "[CV 1/2; 5/9] START alpha=0.1, gamma=0.1, kernel=rbf............................\n",
      "[CV 1/2; 5/9] END ..........alpha=0.1, gamma=0.1, kernel=rbf; total time=   0.1s\n",
      "[CV 2/2; 5/9] START alpha=0.1, gamma=0.1, kernel=rbf............................\n",
      "[CV 2/2; 5/9] END ..........alpha=0.1, gamma=0.1, kernel=rbf; total time=   0.1s\n",
      "[CV 1/2; 6/9] START alpha=0.1, gamma=1.0, kernel=rbf............................\n",
      "[CV 1/2; 6/9] END ..........alpha=0.1, gamma=1.0, kernel=rbf; total time=   0.0s\n",
      "[CV 2/2; 6/9] START alpha=0.1, gamma=1.0, kernel=rbf............................\n",
      "[CV 2/2; 6/9] END ..........alpha=0.1, gamma=1.0, kernel=rbf; total time=   0.0s\n",
      "[CV 1/2; 7/9] START alpha=1.0, gamma=0.01, kernel=rbf...........................\n",
      "[CV 1/2; 7/9] END .........alpha=1.0, gamma=0.01, kernel=rbf; total time=   0.0s\n",
      "[CV 2/2; 7/9] START alpha=1.0, gamma=0.01, kernel=rbf...........................\n",
      "[CV 2/2; 7/9] END .........alpha=1.0, gamma=0.01, kernel=rbf; total time=   0.1s\n",
      "[CV 1/2; 8/9] START alpha=1.0, gamma=0.1, kernel=rbf............................\n",
      "[CV 1/2; 8/9] END ..........alpha=1.0, gamma=0.1, kernel=rbf; total time=   0.1s\n",
      "[CV 2/2; 8/9] START alpha=1.0, gamma=0.1, kernel=rbf............................\n",
      "[CV 2/2; 8/9] END ..........alpha=1.0, gamma=0.1, kernel=rbf; total time=   0.1s\n",
      "[CV 1/2; 9/9] START alpha=1.0, gamma=1.0, kernel=rbf............................\n",
      "[CV 1/2; 9/9] END ..........alpha=1.0, gamma=1.0, kernel=rbf; total time=   0.0s\n",
      "[CV 2/2; 9/9] START alpha=1.0, gamma=1.0, kernel=rbf............................\n",
      "[CV 2/2; 9/9] END ..........alpha=1.0, gamma=1.0, kernel=rbf; total time=   0.0s\n",
      "5.751 (+/-0.051) for {'alpha': 0.01, 'gamma': 0.01, 'kernel': 'rbf'}\n",
      "5.752 (+/-0.051) for {'alpha': 0.01, 'gamma': 0.1, 'kernel': 'rbf'}\n",
      "5.752 (+/-0.051) for {'alpha': 0.01, 'gamma': 1.0, 'kernel': 'rbf'}\n",
      "5.751 (+/-0.051) for {'alpha': 0.1, 'gamma': 0.01, 'kernel': 'rbf'}\n",
      "5.752 (+/-0.051) for {'alpha': 0.1, 'gamma': 0.1, 'kernel': 'rbf'}\n",
      "5.752 (+/-0.051) for {'alpha': 0.1, 'gamma': 1.0, 'kernel': 'rbf'}\n",
      "5.752 (+/-0.051) for {'alpha': 1.0, 'gamma': 0.01, 'kernel': 'rbf'}\n",
      "5.752 (+/-0.051) for {'alpha': 1.0, 'gamma': 0.1, 'kernel': 'rbf'}\n",
      "5.752 (+/-0.051) for {'alpha': 1.0, 'gamma': 1.0, 'kernel': 'rbf'}\n",
      "The best combinations of parameters are {'alpha': 0.01, 'gamma': 0.01, 'kernel': 'rbf'} with a score of 5.751 eV on the validation set.\n"
     ]
    }
   ],
   "source": [
    "alpha = np.logspace(-2, 0, 3)\n",
    "gamma = np.logspace(-2, 0, 3)\n",
    "\n",
    "cv_number = 5 ## choose into how many parts training set is divided for cross-validation\n",
    "grid_search.fit(x_train, y_train)\n",
    "\n",
    "##################################\n",
    "\n",
    "means = grid_search.cv_results_['mean_test_score']\n",
    "stds = grid_search.cv_results_['std_test_score']\n",
    "for mean, std, params in zip(-means, stds, grid_search.cv_results_['params']):\n",
    "    print(\"%0.3f (+/-%0.03f) for %r\" % (mean, std * 2, params))\n",
    "\n",
    "print(\"The best combinations of parameters are %s with a score of %0.3f eV on the validation set.\"\n",
    "      % (grid_search.best_params_, -grid_search.best_score_))\n"
   ]
  },
  {
   "cell_type": "code",
   "execution_count": 33,
   "metadata": {},
   "outputs": [
    {
     "name": "stdout",
     "output_type": "stream",
     "text": [
      "Mean absolute error on test set: 5.78962 eV\n"
     ]
    },
    {
     "data": {
      "image/png": "[encoded data removed]",
      "text/plain": [
       "<Figure size 432x288 with 1 Axes>"
      ]
     },
     "metadata": {
      "needs_background": "light"
     },
     "output_type": "display_data"
    },
    {
     "name": "stdout",
     "output_type": "stream",
     "text": [
      "R^2 score on test set: -132.23876\n"
     ]
    }
   ],
   "source": [
    "y_pred = grid_search.predict(x_test) # scikit-learn automatically takes the best combination\n",
    "                                     # of hyperparameters from grid search\n",
    "\n",
    "print(\"Mean absolute error on test set: %0.5f eV\" %(np.abs(y_pred-y_test)).mean())\n",
    "\n",
    "# do the regression plot\n",
    "plt.plot(y_test, y_pred, 'o')\n",
    "plt.plot([np.min(y_test),np.max(y_test)], [np.min(y_test),np.max(y_test)], '-')\n",
    "plt.xlabel('reference HOMO energy [eV]')\n",
    "plt.ylabel('predicted HOMO energy [eV]')\n",
    "plt.show()\n",
    "print(\"R^2 score on test set: %.5f\" % r2_score(y_test, y_pred))"
   ]
  },
  {
   "cell_type": "markdown",
   "metadata": {},
   "source": [
    "Hence there doesn't seems to be any change in the results when cv is increased from 2 to 5. It seems like the influence of cross-validation folds on the model is small compared to the grid size. "
   ]
  },
  {
   "cell_type": "markdown",
   "metadata": {},
   "source": [
    "### 3. Kernel function\n",
    "\n",
    "Use the Laplacian kernel instead of the Gaussian kernel. Which kernel leads to better model performance?"
   ]
  },
  {
   "cell_type": "markdown",
   "metadata": {},
   "source": [
    "#### My Solution\n",
    "\n",
    "Let's change the kernal to 'laplacian':"
   ]
  },
  {
   "cell_type": "code",
   "execution_count": 34,
   "metadata": {},
   "outputs": [
    {
     "name": "stdout",
     "output_type": "stream",
     "text": [
      "Fitting 2 folds for each of 9 candidates, totalling 18 fits\n",
      "[CV 1/2; 1/9] START alpha=0.01, gamma=0.01, kernel=laplacian....................\n",
      "[CV 1/2; 1/9] END ..alpha=0.01, gamma=0.01, kernel=laplacian; total time=   0.4s\n",
      "[CV 2/2; 1/9] START alpha=0.01, gamma=0.01, kernel=laplacian....................\n",
      "[CV 2/2; 1/9] END ..alpha=0.01, gamma=0.01, kernel=laplacian; total time=   0.4s\n",
      "[CV 1/2; 2/9] START alpha=0.01, gamma=0.1, kernel=laplacian.....................\n",
      "[CV 1/2; 2/9] END ...alpha=0.01, gamma=0.1, kernel=laplacian; total time=   0.4s\n",
      "[CV 2/2; 2/9] START alpha=0.01, gamma=0.1, kernel=laplacian.....................\n",
      "[CV 2/2; 2/9] END ...alpha=0.01, gamma=0.1, kernel=laplacian; total time=   0.4s\n",
      "[CV 1/2; 3/9] START alpha=0.01, gamma=1.0, kernel=laplacian.....................\n",
      "[CV 1/2; 3/9] END ...alpha=0.01, gamma=1.0, kernel=laplacian; total time=   0.4s\n",
      "[CV 2/2; 3/9] START alpha=0.01, gamma=1.0, kernel=laplacian.....................\n",
      "[CV 2/2; 3/9] END ...alpha=0.01, gamma=1.0, kernel=laplacian; total time=   0.4s\n",
      "[CV 1/2; 4/9] START alpha=0.1, gamma=0.01, kernel=laplacian.....................\n",
      "[CV 1/2; 4/9] END ...alpha=0.1, gamma=0.01, kernel=laplacian; total time=   0.4s\n",
      "[CV 2/2; 4/9] START alpha=0.1, gamma=0.01, kernel=laplacian.....................\n",
      "[CV 2/2; 4/9] END ...alpha=0.1, gamma=0.01, kernel=laplacian; total time=   0.4s\n",
      "[CV 1/2; 5/9] START alpha=0.1, gamma=0.1, kernel=laplacian......................\n",
      "[CV 1/2; 5/9] END ....alpha=0.1, gamma=0.1, kernel=laplacian; total time=   0.4s\n",
      "[CV 2/2; 5/9] START alpha=0.1, gamma=0.1, kernel=laplacian......................\n",
      "[CV 2/2; 5/9] END ....alpha=0.1, gamma=0.1, kernel=laplacian; total time=   0.4s\n",
      "[CV 1/2; 6/9] START alpha=0.1, gamma=1.0, kernel=laplacian......................\n",
      "[CV 1/2; 6/9] END ....alpha=0.1, gamma=1.0, kernel=laplacian; total time=   0.4s\n",
      "[CV 2/2; 6/9] START alpha=0.1, gamma=1.0, kernel=laplacian......................\n",
      "[CV 2/2; 6/9] END ....alpha=0.1, gamma=1.0, kernel=laplacian; total time=   0.4s\n",
      "[CV 1/2; 7/9] START alpha=1.0, gamma=0.01, kernel=laplacian.....................\n",
      "[CV 1/2; 7/9] END ...alpha=1.0, gamma=0.01, kernel=laplacian; total time=   0.4s\n",
      "[CV 2/2; 7/9] START alpha=1.0, gamma=0.01, kernel=laplacian.....................\n",
      "[CV 2/2; 7/9] END ...alpha=1.0, gamma=0.01, kernel=laplacian; total time=   0.4s\n",
      "[CV 1/2; 8/9] START alpha=1.0, gamma=0.1, kernel=laplacian......................\n",
      "[CV 1/2; 8/9] END ....alpha=1.0, gamma=0.1, kernel=laplacian; total time=   0.4s\n",
      "[CV 2/2; 8/9] START alpha=1.0, gamma=0.1, kernel=laplacian......................\n",
      "[CV 2/2; 8/9] END ....alpha=1.0, gamma=0.1, kernel=laplacian; total time=   0.4s\n",
      "[CV 1/2; 9/9] START alpha=1.0, gamma=1.0, kernel=laplacian......................\n",
      "[CV 1/2; 9/9] END ....alpha=1.0, gamma=1.0, kernel=laplacian; total time=   0.4s\n",
      "[CV 2/2; 9/9] START alpha=1.0, gamma=1.0, kernel=laplacian......................\n",
      "[CV 2/2; 9/9] END ....alpha=1.0, gamma=1.0, kernel=laplacian; total time=   0.4s\n"
     ]
    },
    {
     "data": {
      "text/plain": [
       "GridSearchCV(cv=2, estimator=KernelRidge(),\n",
       "             param_grid=[{'alpha': array([0.01, 0.1 , 1.  ]),\n",
       "                          'gamma': array([0.01, 0.1 , 1.  ]),\n",
       "                          'kernel': ['laplacian']}],\n",
       "             scoring='neg_mean_absolute_error', verbose=1000)"
      ]
     },
     "execution_count": 34,
     "metadata": {},
     "output_type": "execute_result"
    }
   ],
   "source": [
    "alpha = np.logspace(-2, 0, 3)\n",
    "gamma = np.logspace(-2, 0, 3)\n",
    "\n",
    "cv_number = 2 \n",
    "kernel = 'laplacian' # select kernel function here ('rbf': Gaussian kernel, 'laplacian': Laplacian kernel)\n",
    "scoring_function = 'neg_mean_absolute_error' \n",
    "\n",
    "grid_search = GridSearchCV(KernelRidge(),\n",
    "                           [{'kernel':[kernel],'alpha': alpha, 'gamma': gamma}], \n",
    "                           cv = cv_number, \n",
    "                           scoring = scoring_function,\n",
    "                           verbose=1000)  \n",
    "\n",
    "grid_search.fit(x_train, y_train)"
   ]
  },
  {
   "cell_type": "code",
   "execution_count": 35,
   "metadata": {},
   "outputs": [
    {
     "name": "stdout",
     "output_type": "stream",
     "text": [
      "Mean absolute error on test set: 3.32437 eV\n"
     ]
    },
    {
     "data": {
      "image/png": "[encoded data removed]",
      "text/plain": [
       "<Figure size 432x288 with 1 Axes>"
      ]
     },
     "metadata": {
      "needs_background": "light"
     },
     "output_type": "display_data"
    },
    {
     "name": "stdout",
     "output_type": "stream",
     "text": [
      "R^2 score on test set: -48.07520\n"
     ]
    }
   ],
   "source": [
    "y_pred = grid_search.predict(x_test) # scikit-learn automatically takes the best combination\n",
    "                                     # of hyperparameters from grid search\n",
    "\n",
    "print(\"Mean absolute error on test set: %0.5f eV\" %(np.abs(y_pred-y_test)).mean())\n",
    "\n",
    "# do the regression plot\n",
    "plt.plot(y_test, y_pred, 'o')\n",
    "plt.plot([np.min(y_test),np.max(y_test)], [np.min(y_test),np.max(y_test)], '-')\n",
    "plt.xlabel('reference HOMO energy [eV]')\n",
    "plt.ylabel('predicted HOMO energy [eV]')\n",
    "plt.show()\n",
    "print(\"R^2 score on test set: %.5f\" % r2_score(y_test, y_pred))"
   ]
  },
  {
   "cell_type": "markdown",
   "metadata": {},
   "source": [
    "The error and R^2 score far better than Gaussian Kernel. Laplacian is definetely the superior kernel."
   ]
  },
  {
   "cell_type": "markdown",
   "metadata": {},
   "source": [
    "### 4. Training set size\n",
    "\n",
    "Using the better performing kernel, let's investigate the effects of training set size on the final model.\n",
    "\n",
    "Increase the size of the training set and plot the mean absolute error on the test set as a function of training set size (e.g. use 1000, 2000, 3000 etc. as training set size). How does the computational time increase? What is the largest training set size that allows training within a reasonable time, given computational resources?\n",
    "\n",
    "The optimal hyperparameter values for $\\alpha$ and $\\gamma$ can change throughout varying training set sizes. Therefore, when increasing the training set size, it is recommended to perform a cross-validated grid search for each training set size. Use a reasonable amount of grid points as well as a reasonable number of folds for cross-validation. Take note of the optimal hyperparameters for each training set size. Do they change? "
   ]
  },
  {
   "cell_type": "code",
   "execution_count": 18,
   "metadata": {},
   "outputs": [],
   "source": [
    "import timeit # library to measure the computational time\n",
    "\n",
    "MAE_list = [] # list to store error for different n_train values\n",
    "time_list = [] # list to store computational time for different n_train values\n",
    "\n",
    "for n_train in [1000,1500,2000,2500]: # loop through all n_train values\n",
    "    start_time = timeit.default_timer() # start the timer for each iteration of n_train\n",
    "    \n",
    "    #n_train = 1000\n",
    "    n_test = 1000\n",
    "\n",
    "    # split data in training and test\n",
    "    # take first n_train molecules for training\n",
    "    x_train  = x[0:n_train] \n",
    "    y_train = y[0:n_train]\n",
    "\n",
    "    # take the next n_test data for testing\n",
    "    x_test = x[n_train:n_train + n_test]\n",
    "    y_test = y[n_train:n_train + n_test]\n",
    "\n",
    "\n",
    "    alpha = np.logspace(-2, 0, 3)\n",
    "    gamma = np.logspace(-2, 0, 3)\n",
    "\n",
    "    cv_number = 2 \n",
    "    kernel = 'laplacian' # select kernel function here ('rbf': Gaussian kernel, 'laplacian': Laplacian kernel)\n",
    "    scoring_function = 'neg_mean_absolute_error' \n",
    "\n",
    "    grid_search = GridSearchCV(KernelRidge(),\n",
    "                               [{'kernel':[kernel],'alpha': alpha, 'gamma': gamma}], \n",
    "                               cv = cv_number, \n",
    "                               scoring = scoring_function)\n",
    "\n",
    "    grid_search.fit(x_train, y_train)\n",
    "\n",
    "    y_pred = grid_search.predict(x_test)\n",
    "    \n",
    "    MAE = np.abs(y_pred-y_test).mean()\n",
    "    MAE_list.append(MAE)\n",
    "    elapsed = timeit.default_timer() - start_time\n",
    "    time_list.append(elapsed)\n"
   ]
  },
  {
   "cell_type": "code",
   "execution_count": 29,
   "metadata": {},
   "outputs": [
    {
     "data": {
      "text/plain": [
       "Text(0.5, 1.0, 'Computational time')"
      ]
     },
     "execution_count": 29,
     "metadata": {},
     "output_type": "execute_result"
    },
    {
     "data": {
      "image/png": "[encoded data removed]",
      "text/plain": [
       "<Figure size 432x288 with 2 Axes>"
      ]
     },
     "metadata": {
      "needs_background": "light"
     },
     "output_type": "display_data"
    }
   ],
   "source": [
    "n_train_list = [1000,1500,2000,2500]\n",
    "\n",
    "fig, ax = plt.subplots(1,2)\n",
    "ax[0].plot(n_train_list, MAE_list,'bo')\n",
    "ax[0].set_xlabel('n_train')\n",
    "ax[0].set_ylabel('MAE')\n",
    "ax[0].set_title('Mean Abs. Error')\n",
    "\n",
    "ax[1].plot(n_train_list, time_list,'bo')\n",
    "ax[1].set_xlabel('n_train')\n",
    "ax[1].set_ylabel('time (s)')\n",
    "ax[1].set_title('Computational time')"
   ]
  },
  {
   "cell_type": "markdown",
   "metadata": {},
   "source": [
    "Hence as the train set size is increasing, absolute error is decreasing and computational time is increasing."
   ]
  }
 ],
 "metadata": {
  "anaconda-cloud": {},
  "kernelspec": {
   "display_name": "Python 3",
   "language": "python",
   "name": "python3"
  },
  "language_info": {
   "codemirror_mode": {
    "name": "ipython",
    "version": 3
   },
   "file_extension": ".py",
   "mimetype": "text/x-python",
   "name": "python",
   "nbconvert_exporter": "python",
   "pygments_lexer": "ipython3",
   "version": "3.7.10"
  }
 },
 "nbformat": 4,
 "nbformat_minor": 2
}
